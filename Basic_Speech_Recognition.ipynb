{
 "cells": [
  {
   "cell_type": "code",
   "execution_count": 1,
   "id": "bc722653-37d8-4da8-a801-7a2c7c44fd6a",
   "metadata": {},
   "outputs": [],
   "source": [
    "import speech_recognition as sr"
   ]
  },
  {
   "cell_type": "code",
   "execution_count": 16,
   "id": "1970e90f-8b34-42c5-a240-929bb4324aa0",
   "metadata": {},
   "outputs": [
    {
     "name": "stdout",
     "output_type": "stream",
     "text": [
      "SPEAK>>> \n",
      "Processing Voice...\n",
      "Result: hello project testing 123\n"
     ]
    }
   ],
   "source": [
    "# Initialize recognizer\n",
    "recognizer = sr.Recognizer()\n",
    "\n",
    "# Function to recognize speech\n",
    "def recognize_speech():\n",
    "    with sr.Microphone() as source:\n",
    "        print(\"SPEAK>>> \")\n",
    "\n",
    "        # Adjust for ambient noise\n",
    "        recognizer.adjust_for_ambient_noise(source)\n",
    "\n",
    "        # Capture the audio\n",
    "        audio = recognizer.listen(source)\n",
    "\n",
    "    try:\n",
    "        print(\"Processing Voice...\")\n",
    "\n",
    "        # Use Google Web Speech API to recognize the audio\n",
    "        text = recognizer.recognize_google(audio)\n",
    "\n",
    "        # Print recognized text\n",
    "        print(f\"Result: {text}\")\n",
    "\n",
    "    except sr.UnknownValueError:\n",
    "        print(\"Sorry, could not understand what you said.\")\n",
    "\n",
    "    except sr.RequestError as e:\n",
    "        print(f\"Request error from Google Speech Recognition service: {e}\")\n",
    "\n",
    "# Call the speech recognition function\n",
    "recognize_speech()\n"
   ]
  }
 ],
 "metadata": {
  "kernelspec": {
   "display_name": "Python 3 (ipykernel)",
   "language": "python",
   "name": "python3"
  },
  "language_info": {
   "codemirror_mode": {
    "name": "ipython",
    "version": 3
   },
   "file_extension": ".py",
   "mimetype": "text/x-python",
   "name": "python",
   "nbconvert_exporter": "python",
   "pygments_lexer": "ipython3",
   "version": "3.12.3"
  }
 },
 "nbformat": 4,
 "nbformat_minor": 5
}
